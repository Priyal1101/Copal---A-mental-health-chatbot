{
 "cells": [
  {
   "cell_type": "code",
   "execution_count": 1,
   "id": "bd204f36-147b-4a60-bda4-e303f4bee130",
   "metadata": {},
   "outputs": [
    {
     "name": "stderr",
     "output_type": "stream",
     "text": [
      "[nltk_data] Downloading package vader_lexicon to\n",
      "[nltk_data]     /home/u188184/nltk_data...\n",
      "[nltk_data]   Package vader_lexicon is already up-to-date!\n",
      "[nltk_data] Downloading package punkt to /home/u188184/nltk_data...\n",
      "[nltk_data]   Package punkt is already up-to-date!\n",
      "[nltk_data] Downloading package wordnet to /home/u188184/nltk_data...\n",
      "[nltk_data]   Package wordnet is already up-to-date!\n",
      "[nltk_data] Downloading package averaged_perceptron_tagger to\n",
      "[nltk_data]     /home/u188184/nltk_data...\n",
      "[nltk_data]   Package averaged_perceptron_tagger is already up-to-\n",
      "[nltk_data]       date!\n",
      "[nltk_data] Downloading package omw-1.4 to /home/u188184/nltk_data...\n",
      "[nltk_data]   Package omw-1.4 is already up-to-date!\n"
     ]
    },
    {
     "data": {
      "text/plain": [
       "True"
      ]
     },
     "execution_count": 1,
     "metadata": {},
     "output_type": "execute_result"
    }
   ],
   "source": [
    "from flask import Flask, request, jsonify\n",
    "import nltk\n",
    "from nltk.corpus import wordnet\n",
    "from nltk.stem import WordNetLemmatizer\n",
    "from nltk.sentiment.vader import SentimentIntensityAnalyzer\n",
    "import random\n",
    "from nltk.corpus import wordnet\n",
    "nltk.download('vader_lexicon')\n",
    "nltk.download('punkt')\n",
    "nltk.download('wordnet')\n",
    "nltk.download('averaged_perceptron_tagger')\n",
    "nltk.download('omw-1.4')"
   ]
  },
  {
   "cell_type": "code",
   "execution_count": 2,
   "id": "0ffeb1e5-96e7-4b04-aa7b-57c13af5510a",
   "metadata": {},
   "outputs": [],
   "source": [
    "# initialize lemmatizer\n",
    "lemmatizer = WordNetLemmatizer()\n",
    "\n",
    "# Initialize Sentiment Intensity Analyzer\n",
    "sid = SentimentIntensityAnalyzer()"
   ]
  },
  {
   "cell_type": "code",
   "execution_count": 3,
   "id": "c92b835f-7fa6-4254-885c-18a61e7adffd",
   "metadata": {},
   "outputs": [],
   "source": [
    "\n",
    "# Define keywords and responses\n",
    "greeting_keywords = ['hi', 'hello', 'hey', 'hi there', 'hello there']\n",
    "symptom_keywords = ['anxious', 'anxiety', 'stressed', 'stress', 'depressed', 'depression', 'sad', 'lonely']\n",
    "thought_keywords = ['negative', 'pessimistic', 'hopeless', 'helpless', 'overthinking', 'rumination']\n",
    "behavior_keywords = ['avoidance', 'procrastination', 'isolation']\n",
    "technique_keywords = ['thought challenging', 'behavioral activation', 'relaxation', 'self-care']\n",
    "goodbye_keywords = ['exit', 'quit', 'goodbye', 'bye']\n",
    "\n",
    "greetings = ['Hello! I\\'m an AI chatbot programmed to assist with mental health concerns. How are you feeling today?', \n",
    "             'Hi! I\\'m here to help with your mental health concerns. How can I assist you today?', \n",
    "             'Welcome! I\\'m an AI chatbot designed to support you with your mental health. What\\'s been on your mind lately?']\n",
    "symptom_responses = ['I\\'m sorry to hear that you are feeling {}. Can you tell me more about what\\'s been causing your {}?', \n",
    "                     'It sounds like you are experiencing {}. Would you like to talk more about what\\'s been going on?', \n",
    "                     'Feeling {} can be tough. Would you like to tell me more about what\\'s been happening?']\n",
    "thought_responses = ['I\\'m sorry you are having negative thoughts. Let\\'s challenge them. Can you provide me an example of one negative thought you are having?',\n",
    "                     'I understand you are having pessimistic thoughts. Can you provide me an example?',\n",
    "                     'I\\'m sorry to hear that you feel hopeless. Can you give me an example of a negative thought you\\'ve been having?']\n",
    "behavior_responses = ['I see that you are avoiding certain situations. Let\\'s work on this. Can you give me an example of one situation you have been avoiding?',\n",
    "                      'Procrastination can be tough. Can you tell me more about the tasks you have been putting off?',\n",
    "                      'It sounds like you have been isolating yourself. Would you like to talk more about why that is?']\n",
    "technique_responses = ['Great, let\\'s start with a thought challenging exercise. Here\\'s an example: {}, can you provide me an alternative thought to this?',\n",
    "                       'Behavioral activation can be helpful. Let\\'s set a goal to complete one task today, even if it\\'s small. What do you want to accomplish?',\n",
    "                       'Self-care is important. Let\\'s try a relaxation technique such as deep breathing or progressive muscle relaxation. Would you like to try one now?']\n",
    "unknown_response = ['I\\'m sorry, I don\\'t understand. Can you please rephrase that?', \n",
    "                    'I\\'m not sure I understand what you mean. Can you please clarify?', \n",
    "                    'I\\'m having trouble understanding. Can you please provide more information?']\n",
    "goodbye_responses = ['Goodbye!', 'Take care.', 'Until next time.']"
   ]
  },
  {
   "cell_type": "code",
   "execution_count": 5,
   "id": "d9c1fcaa-4d29-4a8c-b4de-602939a1a4c8",
   "metadata": {},
   "outputs": [
    {
     "name": "stdout",
     "output_type": "stream",
     "text": [
      "Hi, I'm a mental health chatbot. How can I help you today?\n"
     ]
    },
    {
     "name": "stdin",
     "output_type": "stream",
     "text": [
      ">  Hi\n"
     ]
    },
    {
     "name": "stdout",
     "output_type": "stream",
     "text": [
      "Hello! I'm an AI chatbot programmed to assist with mental health concerns. How are you feeling today?\n"
     ]
    },
    {
     "name": "stdin",
     "output_type": "stream",
     "text": [
      ">  feeling anxious\n"
     ]
    },
    {
     "name": "stdout",
     "output_type": "stream",
     "text": [
      "I'm sorry to hear that you are feeling {}. Can you tell me more about what's been causing your {}?\n"
     ]
    },
    {
     "name": "stdin",
     "output_type": "stream",
     "text": [
      ">  isolation\n"
     ]
    },
    {
     "name": "stdout",
     "output_type": "stream",
     "text": [
      "It sounds like you have been isolating yourself. Would you like to talk more about why that is?\n"
     ]
    },
    {
     "name": "stdin",
     "output_type": "stream",
     "text": [
      ">  lonely\n"
     ]
    },
    {
     "name": "stdout",
     "output_type": "stream",
     "text": [
      "It sounds like you are experiencing {}. Would you like to talk more about what's been going on?\n"
     ]
    },
    {
     "name": "stdin",
     "output_type": "stream",
     "text": [
      ">  bye\n"
     ]
    },
    {
     "name": "stdout",
     "output_type": "stream",
     "text": [
      "Goodbye!\n"
     ]
    }
   ],
   "source": [
    "\n",
    "def get_wordnet_pos(token):\n",
    "    \"\"\"Helper function: map POS tag to first character lemmatize() accepts\n",
    "    Taken from: https://www.machinelearningplus.com/nlp/lemmatization-examples-python/\n",
    "    \"\"\"\n",
    "    tag = nltk.pos_tag([token])[0][1][0].upper() #extract the information\n",
    "    tag_dict = {\"J\": wordnet.ADJ, #map\n",
    "                \"N\": wordnet.NOUN,\n",
    "                \"V\": wordnet.VERB,\n",
    "                \"R\": wordnet.ADV}\n",
    "    return tag_dict.get(tag, wordnet.NOUN) #guess noun if unknown\n",
    "\n",
    "# Define a function to process user input\n",
    "def process_input(user_input):\n",
    "    # Get sentiment score\n",
    "    sentiment_score = sid.polarity_scores(user_input)['compound']\n",
    "    \n",
    "    # Initialize variables\n",
    "    greeting = False\n",
    "    symptom = False\n",
    "    thought = False\n",
    "    behavior = False\n",
    "    technique = False\n",
    "    goodbye = False\n",
    "    \n",
    "    # tokenize user input\n",
    "    tokens = nltk.word_tokenize(user_input.lower())\n",
    "    \n",
    "    # lemmatize tokens\n",
    "    lemmatized_tokens = [lemmatizer.lemmatize(token, get_wordnet_pos(token)) for token in tokens]\n",
    "    \n",
    "    # check for keywords\n",
    "    if any(keyword in lemmatized_tokens for keyword in greeting_keywords):\n",
    "        greeting = True\n",
    "    if any(keyword in lemmatized_tokens for keyword in symptom_keywords):\n",
    "        symptom = True\n",
    "    if any(keyword in lemmatized_tokens for keyword in thought_keywords):\n",
    "        thought = True\n",
    "    if any(keyword in lemmatized_tokens for keyword in behavior_keywords):\n",
    "        behavior = True\n",
    "    if any(keyword in lemmatized_tokens for keyword in technique_keywords):\n",
    "        technique = True\n",
    "    if any(keyword in lemmatized_tokens for keyword in goodbye_keywords):\n",
    "        goodbye = True\n",
    "    \n",
    "    # generate a response based on the keywords\n",
    "    if greeting:\n",
    "        response = random.choice(greetings)\n",
    "    elif symptom:\n",
    "        response = random.choice(symptom_responses)\n",
    "    elif thought:\n",
    "        response = random.choice(thought_responses)\n",
    "    elif behavior:\n",
    "        response = random.choice(behavior_responses)\n",
    "    elif technique:\n",
    "        response = random.choice(technique_responses)\n",
    "    elif goodbye:\n",
    "        response = random.choice(goodbye_responses)\n",
    "    else:\n",
    "      response = random.choice(unknown_response)\n",
    "    return response"
   ]
  },
  {
   "cell_type": "code",
   "execution_count": null,
   "id": "2af0e5fb-1d79-475b-b755-ad7d45cb26b6",
   "metadata": {},
   "outputs": [],
   "source": [
    "# Initialize Flask app\n",
    "app = Flask(__name__, static_url_path='', static_folder='static')\n",
    "\n",
    "# Define a route to handle user input and return the sentiment analysis result\n",
    "@app.route('/chatbot', methods=['POST'])\n",
    "\n",
    "# Define a function to start the chatbot\n",
    "def chatbot():\n",
    "\n",
    "    while True:\n",
    "        # Get user input\n",
    "        user_input = request.form['user_input']\n",
    "\n",
    "        # Check for exit command\n",
    "        if user_input.lower() in ['exit', 'quit', 'goodbye', 'bye']:\n",
    "            print(\"Goodbye!\")\n",
    "            break\n",
    "\n",
    "        # Generate a response and print it\n",
    "        response_ = process_input(user_input)\n",
    "        print(response_)\n",
    "        return jsonify({'response': response_})\n",
    "\n",
    "# Define a route to serve the website\n",
    "@app.route('/')\n",
    "def index():\n",
    "    return app.send_static_file('index.html')\n",
    "\n",
    "if __name__ == '__main__':\n",
    "    app.run(debug=True)"
   ]
  }
 ],
 "metadata": {
  "kernelspec": {
   "display_name": "Python3 (OpenVINO Torch-ORT [Beta])",
   "language": "python",
   "name": "openvino_2022.1.0-torch-ort"
  },
  "language_info": {
   "codemirror_mode": {
    "name": "ipython",
    "version": 3
   },
   "file_extension": ".py",
   "mimetype": "text/x-python",
   "name": "python",
   "nbconvert_exporter": "python",
   "pygments_lexer": "ipython3",
   "version": "3.8.0"
  }
 },
 "nbformat": 4,
 "nbformat_minor": 5
}
